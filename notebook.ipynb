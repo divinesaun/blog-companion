{
 "cells": [
  {
   "cell_type": "markdown",
   "metadata": {},
   "source": [
    "This is me: overwhelmed by ideas such that they become difficult to work on.<br>\n",
    "A partner, to hold finese all those rough edges I missed because you were tired <br>"
   ]
  },
  {
   "cell_type": "code",
   "execution_count": 1,
   "metadata": {},
   "outputs": [],
   "source": [
    "from langchain.document_loaders import TextLoader"
   ]
  },
  {
   "cell_type": "code",
   "execution_count": 2,
   "metadata": {},
   "outputs": [],
   "source": [
    "articles = [\"making-effect-career-change.txt\",\n",
    "                     \"python-on-the-go.txt\",\n",
    "                     \"safety-net-ep-0.txt\",\n",
    "                     \"safety-net-ep-1.txt\",\n",
    "                     \"safety-net-ep-2.txt\"]"
   ]
  },
  {
   "cell_type": "code",
   "execution_count": 3,
   "metadata": {},
   "outputs": [],
   "source": [
    "article_docs = []\n",
    "for article in articles:\n",
    "    loader = TextLoader(article)\n",
    "    doc = loader.load()\n",
    "    article_docs += doc"
   ]
  },
  {
   "cell_type": "code",
   "execution_count": 4,
   "metadata": {},
   "outputs": [
    {
     "data": {
      "text/plain": [
       "True"
      ]
     },
     "execution_count": 4,
     "metadata": {},
     "output_type": "execute_result"
    }
   ],
   "source": [
    "from dotenv import load_dotenv\n",
    "load_dotenv()"
   ]
  },
  {
   "cell_type": "code",
   "execution_count": 7,
   "metadata": {},
   "outputs": [],
   "source": [
    "from langchain.vectorstores import FAISS\n",
    "from langchain_google_genai import GoogleGenerativeAIEmbeddings\n",
    "\n",
    "embedding = GoogleGenerativeAIEmbeddings(model=\"models/embedding-001\")\n",
    "\n",
    "vectorstore = FAISS.from_documents(\n",
    "    documents=article_docs,\n",
    "    embedding=embedding)"
   ]
  },
  {
   "cell_type": "code",
   "execution_count": 142,
   "metadata": {},
   "outputs": [],
   "source": [
    "vectorstore.save_local(\"articles\")"
   ]
  },
  {
   "cell_type": "code",
   "execution_count": 9,
   "metadata": {},
   "outputs": [],
   "source": [
    "from langchain_google_genai import ChatGoogleGenerativeAI\n",
    "\n",
    "retriever = vectorstore.as_retriever()\n",
    "llm = ChatGoogleGenerativeAI(model=\"gemini-2.0-flash-exp\")"
   ]
  },
  {
   "cell_type": "code",
   "execution_count": 13,
   "metadata": {},
   "outputs": [
    {
     "data": {
      "text/plain": [
       "np.float64(502.0)"
      ]
     },
     "execution_count": 13,
     "metadata": {},
     "output_type": "execute_result"
    }
   ],
   "source": [
    "import numpy as np\n",
    "np.mean([len(i.page_content.split()) for i in article_docs])"
   ]
  },
  {
   "cell_type": "code",
   "execution_count": 136,
   "metadata": {},
   "outputs": [],
   "source": [
    "from langchain.prompts import PromptTemplate\n",
    "\n",
    "template = \"\"\"\n",
    "You are supportive friend who enjoys my articles and you really like my style of writing.\n",
    "These are all the articles you have read and liked: {context}.\n",
    "I am working on some new material and I need your help to bring out the best in my writing.\n",
    "You are well aware of my writing style, my humor and the kind of English I use.\n",
    "I will provide you with a draft of what I am working on, and you should help me in reviewing and suggesting\n",
    "changes I should make and mention things that you appreciate from the draft: {question}.\n",
    "Give a complete review with the following sections: The Best, The Good, The Meh, The Bad and The Ugly. Be thorough in your review.\n",
    "Speak in a friendly conversational manner. When listing items, use numbers instead of *\n",
    "\"\"\"\n",
    "\n",
    "prompt = PromptTemplate(input_variables=[\"context\", \"question\"], template=template)"
   ]
  },
  {
   "cell_type": "code",
   "execution_count": 138,
   "metadata": {},
   "outputs": [],
   "source": [
    "from langchain.schema.output_parser import StrOutputParser\n",
    "from langchain_core.runnables import RunnablePassthrough\n",
    "\n",
    "chain = (\n",
    "            {\"context\": retriever, \"question\": RunnablePassthrough()} |\n",
    "            prompt |\n",
    "            llm |\n",
    "            StrOutputParser()\n",
    "    )"
   ]
  },
  {
   "cell_type": "code",
   "execution_count": 139,
   "metadata": {},
   "outputs": [],
   "source": [
    "fresh_article = \"\"\"\n",
    "Looking for the friendliest people in the world, try scammers..\n",
    "\n",
    "Scammers will treat you like royalty and make you feel like nothing can stop you..well, that is before they steal your accounts or empty your bank balance.\n",
    "\n",
    "As a data scientist, I came across this dataset of spam emails. Let me tell you, that was one of the most entertaining dataset I had ever come across. \n",
    "\n",
    "There were pretty interesting scammer emails, and yeah, the Nigerian Prince even said \"Hello\". Reading through them (not because I was enjoying reading them but trying to find a pattern) I realized the building blocks of the scam are the same even as today.\n",
    "\n",
    "Although you might feel a sense of self-worthiness when you detect what's being done to you is a scam, sometimes scams can catch you off-guard. And the interesting thing is scams can play with your curiosity. That little piece of you that wants to know if the scammer was telling the truth, that curious bit which wonders if you could have made it if you had followed the scammer, that sense could be your doom.\n",
    "\n",
    "Some scams I have come across personally are \"The Lucky Winner\", and they usually come up with a relevant context that can drive the unwary to be scammed. Relevant context may involve company anniversaries and even emails that show resemblance to the one of the acclaimed company.\n",
    "\n",
    "And some scams are just there to waste your time and drive traffic on some sites. Although, I admire the \"Share to 10\" nonsense, the person who came up with that is a genius! And also hand down to the person who came up with the \"Download these 3 Apps on Playstore to get this impossible thing to find\" technique. But genius as it may be, in a community like Zim/Africa. I can imagine a young, misguided person pouring their hard-earned data into a bucket with holes. And I know the feeling of someone coming up behind you while you are surfing them sites and a questionable ad pops up and creates the \"I can explain\" situation.\n",
    "\n",
    "I still find it more sad than funny, to see people in a tech WhatsApp group, those people you would expect to be gurus of tech (and of course those who see themselves as more \"evolved\" than the less tech-literate) share scam posts in the group.  Believe me, I'm not saying I can smell all scams a mile away but there is this level of intuition that I think everyone has that tells them that \n",
    "\n",
    "there's something wrong with this. \n",
    "\n",
    "One of the problem is also the trust we put in people who shared the suspicious content with us. Like \"it was sent to me by X\" so it's legit. Scams are all around\n",
    "\n",
    "And let's not forget scholarships, everyone want an easy scholarship to study in Canada with everything paid for and a big figure stated stipend. Please note that I'm not saying every opportunity you come across is a scan but this acts in helping you evaluate individually.\n",
    "\"\"\""
   ]
  },
  {
   "cell_type": "code",
   "execution_count": 140,
   "metadata": {},
   "outputs": [],
   "source": [
    "response = chain.invoke(fresh_article)"
   ]
  },
  {
   "cell_type": "code",
   "execution_count": 141,
   "metadata": {},
   "outputs": [
    {
     "name": "stdout",
     "output_type": "stream",
     "text": [
      "Hey! This is a great start! I always look forward to reading your articles. You have a way of making even serious topics like scams engaging and relatable with your personal anecdotes and humor. Your writing style is unique and I love how you weave in your own experiences and observations. Keep it up!\n",
      "\n",
      "Here's my breakdown:\n",
      "\n",
      "**The Best:**\n",
      "\n",
      "1.  **Your Voice:** Your personality shines through! The way you phrase things, like \"I can imagine a young, misguided person pouring their hard-earned data into a bucket with holes,\" is so uniquely you. It's what makes your writing stand out.\n",
      "2.  **Relatability:** The \"I can explain\" situation with questionable ads is hilarious and so relatable. Everyone has been there! You have a knack for tapping into common experiences.\n",
      "3.  **Humor:** The opening line about scammers treating you like royalty is gold. It grabs attention immediately and sets the tone for the article.\n",
      "\n",
      "**The Good:**\n",
      "\n",
      "1.  **Intriguing Hook:** Starting with the spam email dataset as a data scientist is a great way to draw readers in. It gives your perspective credibility.\n",
      "2.  **Highlighting the Psychology:** Pointing out how scams play with curiosity is a really insightful observation. It's important for people to understand that scams aren't just about naivety, but also about tapping into our desires.\n",
      "3.  **Real-World Examples:** \"The Lucky Winner\" and \"Share to 10\" examples are perfect. They're specific and help people recognize the types of scams they might encounter.\n",
      "\n",
      "**The Meh:**\n",
      "\n",
      "1.  **Flow:** There are a few spots where the flow could be smoother. For example, the transition from the \"Lucky Winner\" scams to the \"Share to 10\" scams feels a little abrupt.\n",
      "2.  **\"Building Blocks of Scam\":** I think this point can be expounded upon a little bit. What do you mean by \"building blocks\"?\n",
      "3.  **Tech WhatsApp Group:** I think you should expound on that point to set a clear picture for the readers of what is happening.\n",
      "\n",
      "**The Bad:**\n",
      "\n",
      "1.  **Word Choice:** Some phrases could be tightened up for clarity. For example, \"that sense could be your doom\" is a bit vague. Maybe rephrase to be more direct about the consequences of giving in to curiosity.\n",
      "\n",
      "**The Ugly:**\n",
      "\n",
      "1.  **None really!** This is a solid draft. The \"ugly\" section is more about opportunities for improvement than actual flaws.\n",
      "\n",
      "**Suggestions for Improvement:**\n",
      "\n",
      "1.  **Strengthen Transitions:** Use transition words or phrases to connect your ideas more smoothly. For example, after talking about \"Lucky Winner\" scams, you could say something like, \"Another common type of scam plays on a different emotion...\" before introducing the \"Share to 10\" example.\n",
      "2.  **Elaborate on the \"Building Blocks\":** What are the common elements that make up a scam, regardless of the specific type? Are there consistent emotional triggers, narrative structures, or manipulation tactics? Breaking this down could be really insightful.\n",
      "3.  **Punch Up the Ending:** The scholarship example is good, but the ending feels a bit abrupt. Consider adding a concluding paragraph that summarizes your main points and leaves the reader with a final thought or call to action. Maybe something like, \"Stay vigilant, trust your instincts, and remember that if something seems too good to be true, it probably is.\"\n",
      "4.  **Consider Your Audience:** You mention \"Zim/Africa.\" If your primary audience is familiar with that context, great. If not, you might need to provide a little more explanation to ensure everyone understands the reference.\n",
      "5.  **Proofread Carefully:** A final pass for typos and grammatical errors is always a good idea.\n",
      "\n",
      "Overall, this is a strong piece with your signature style and humor. With a few tweaks to improve flow and clarity, it will be even better! I'm excited to see the finished product!\n"
     ]
    }
   ],
   "source": [
    "print(response)"
   ]
  }
 ],
 "metadata": {
  "kernelspec": {
   "display_name": "venv",
   "language": "python",
   "name": "python3"
  },
  "language_info": {
   "codemirror_mode": {
    "name": "ipython",
    "version": 3
   },
   "file_extension": ".py",
   "mimetype": "text/x-python",
   "name": "python",
   "nbconvert_exporter": "python",
   "pygments_lexer": "ipython3",
   "version": "3.12.4"
  }
 },
 "nbformat": 4,
 "nbformat_minor": 2
}
